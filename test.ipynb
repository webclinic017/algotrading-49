{
 "cells": [
  {
   "cell_type": "code",
   "execution_count": 50,
   "metadata": {},
   "outputs": [],
   "source": [
    "import pandas as pd\n",
    "from backtesting.test import SMA\n",
    "from backtesting.lib import SignalStrategy, TrailingStrategy\n",
    "\n",
    "\n",
    "class SmaCross(SignalStrategy,\n",
    "               TrailingStrategy):\n",
    "    n1 = 10\n",
    "    n2 = 25\n",
    "    \n",
    "    def init(self):\n",
    "        # In init() and in next() it is important to call the\n",
    "        # super method to properly initialize the parent classes\n",
    "        super().init()\n",
    "        \n",
    "        # Precompute the two moving averages\n",
    "        sma1 = self.I(SMA, self.data.Close, self.n1)\n",
    "        sma2 = self.I(SMA, self.data.Close, self.n2)\n",
    "        \n",
    "        # Where sma1 crosses sma2 upwards. Diff gives us [-1,0, *1*]\n",
    "        signal = (pd.Series(sma1) > sma2).astype(int).diff().fillna(0)\n",
    "        signal = signal.replace(-1, 0)  # Upwards/long only\n",
    "        \n",
    "        # Use 10% of available liquidity (at the time) on each order.\n",
    "        # (Leaving a value of 1. would instead buy a single share.)\n",
    "        entry_size = signal * 0.1\n",
    "                \n",
    "        # Set order entry sizes using the method provided by \n",
    "        # `SignalStrategy`. See the docs.\n",
    "        self.set_signal(entry_size=entry_size)\n",
    "        \n",
    "        # Set trailing stop-loss to 2x ATR using\n",
    "        # the method provided by `TrailingStrategy`\n",
    "        self.set_trailing_sl(2)"
   ]
  },
  {
   "cell_type": "code",
   "execution_count": 52,
   "metadata": {},
   "outputs": [
    {
     "name": "stdout",
     "output_type": "stream",
     "text": [
      "                  Open        High         Low       Close    Volume\n",
      "2021-08-30  149.000000  153.490005  148.610001  153.119995  90956700\n",
      "2021-08-31  152.660004  152.800003  151.289993  151.830002  86453100\n",
      "2021-09-01  152.830002  154.979996  152.339996  152.509995  80313700\n",
      "2021-09-02  153.869995  154.720001  152.399994  153.649994  71115500\n",
      "2021-09-03  153.759995  154.630005  153.089996  154.300003  57808700\n",
      "...                ...         ...         ...         ...       ...\n",
      "2022-08-23  167.080002  168.710007  166.649994  167.229996  54147100\n",
      "2022-08-24  167.320007  168.110001  166.250000  167.529999  53841500\n",
      "2022-08-25  168.779999  170.139999  168.350006  170.029999  51218200\n",
      "2022-08-26  170.570007  171.050003  163.559998  163.619995  78823500\n",
      "2022-08-29  161.149994  162.899994  159.820007  161.380005  73227700\n",
      "\n",
      "[252 rows x 5 columns]\n"
     ]
    },
    {
     "data": {
      "text/html": [
       "<div style=\"display: table;\"><div style=\"display: table-row;\"><div style=\"display: table-cell;\"><b title=\"bokeh.models.layouts.Row\">Row</b>(</div><div style=\"display: table-cell;\">id&nbsp;=&nbsp;'20192', <span id=\"20585\" style=\"cursor: pointer;\">&hellip;)</span></div></div><div class=\"20584\" style=\"display: none;\"><div style=\"display: table-cell;\"></div><div style=\"display: table-cell;\">align&nbsp;=&nbsp;'start',</div></div><div class=\"20584\" style=\"display: none;\"><div style=\"display: table-cell;\"></div><div style=\"display: table-cell;\">aspect_ratio&nbsp;=&nbsp;None,</div></div><div class=\"20584\" style=\"display: none;\"><div style=\"display: table-cell;\"></div><div style=\"display: table-cell;\">background&nbsp;=&nbsp;None,</div></div><div class=\"20584\" style=\"display: none;\"><div style=\"display: table-cell;\"></div><div style=\"display: table-cell;\">children&nbsp;=&nbsp;[GridBox(id='20189', ...), ToolbarBox(id='20191', ...)],</div></div><div class=\"20584\" style=\"display: none;\"><div style=\"display: table-cell;\"></div><div style=\"display: table-cell;\">cols&nbsp;=&nbsp;'auto',</div></div><div class=\"20584\" style=\"display: none;\"><div style=\"display: table-cell;\"></div><div style=\"display: table-cell;\">css_classes&nbsp;=&nbsp;[],</div></div><div class=\"20584\" style=\"display: none;\"><div style=\"display: table-cell;\"></div><div style=\"display: table-cell;\">disabled&nbsp;=&nbsp;False,</div></div><div class=\"20584\" style=\"display: none;\"><div style=\"display: table-cell;\"></div><div style=\"display: table-cell;\">height&nbsp;=&nbsp;None,</div></div><div class=\"20584\" style=\"display: none;\"><div style=\"display: table-cell;\"></div><div style=\"display: table-cell;\">height_policy&nbsp;=&nbsp;'auto',</div></div><div class=\"20584\" style=\"display: none;\"><div style=\"display: table-cell;\"></div><div style=\"display: table-cell;\">js_event_callbacks&nbsp;=&nbsp;{},</div></div><div class=\"20584\" style=\"display: none;\"><div style=\"display: table-cell;\"></div><div style=\"display: table-cell;\">js_property_callbacks&nbsp;=&nbsp;{},</div></div><div class=\"20584\" style=\"display: none;\"><div style=\"display: table-cell;\"></div><div style=\"display: table-cell;\">margin&nbsp;=&nbsp;(0, 0, 0, 0),</div></div><div class=\"20584\" style=\"display: none;\"><div style=\"display: table-cell;\"></div><div style=\"display: table-cell;\">max_height&nbsp;=&nbsp;None,</div></div><div class=\"20584\" style=\"display: none;\"><div style=\"display: table-cell;\"></div><div style=\"display: table-cell;\">max_width&nbsp;=&nbsp;None,</div></div><div class=\"20584\" style=\"display: none;\"><div style=\"display: table-cell;\"></div><div style=\"display: table-cell;\">min_height&nbsp;=&nbsp;None,</div></div><div class=\"20584\" style=\"display: none;\"><div style=\"display: table-cell;\"></div><div style=\"display: table-cell;\">min_width&nbsp;=&nbsp;None,</div></div><div class=\"20584\" style=\"display: none;\"><div style=\"display: table-cell;\"></div><div style=\"display: table-cell;\">name&nbsp;=&nbsp;None,</div></div><div class=\"20584\" style=\"display: none;\"><div style=\"display: table-cell;\"></div><div style=\"display: table-cell;\">sizing_mode&nbsp;=&nbsp;'stretch_width',</div></div><div class=\"20584\" style=\"display: none;\"><div style=\"display: table-cell;\"></div><div style=\"display: table-cell;\">spacing&nbsp;=&nbsp;0,</div></div><div class=\"20584\" style=\"display: none;\"><div style=\"display: table-cell;\"></div><div style=\"display: table-cell;\">subscribed_events&nbsp;=&nbsp;[],</div></div><div class=\"20584\" style=\"display: none;\"><div style=\"display: table-cell;\"></div><div style=\"display: table-cell;\">syncable&nbsp;=&nbsp;True,</div></div><div class=\"20584\" style=\"display: none;\"><div style=\"display: table-cell;\"></div><div style=\"display: table-cell;\">tags&nbsp;=&nbsp;[],</div></div><div class=\"20584\" style=\"display: none;\"><div style=\"display: table-cell;\"></div><div style=\"display: table-cell;\">visible&nbsp;=&nbsp;True,</div></div><div class=\"20584\" style=\"display: none;\"><div style=\"display: table-cell;\"></div><div style=\"display: table-cell;\">width&nbsp;=&nbsp;None,</div></div><div class=\"20584\" style=\"display: none;\"><div style=\"display: table-cell;\"></div><div style=\"display: table-cell;\">width_policy&nbsp;=&nbsp;'auto')</div></div></div>\n",
       "<script>\n",
       "(function() {\n",
       "  let expanded = false;\n",
       "  const ellipsis = document.getElementById(\"20585\");\n",
       "  ellipsis.addEventListener(\"click\", function() {\n",
       "    const rows = document.getElementsByClassName(\"20584\");\n",
       "    for (let i = 0; i < rows.length; i++) {\n",
       "      const el = rows[i];\n",
       "      el.style.display = expanded ? \"none\" : \"table-row\";\n",
       "    }\n",
       "    ellipsis.innerHTML = expanded ? \"&hellip;)\" : \"&lsaquo;&lsaquo;&lsaquo;\";\n",
       "    expanded = !expanded;\n",
       "  });\n",
       "})();\n",
       "</script>\n"
      ],
      "text/plain": [
       "Row(id='20192', ...)"
      ]
     },
     "execution_count": 52,
     "metadata": {},
     "output_type": "execute_result"
    }
   ],
   "source": [
    "from backtesting import Backtest\n",
    "from backtesting.test import EURUSD \n",
    "\n",
    "BTCUSDT = pd.read_csv(\"AAPL.csv\", index_col=0, parse_dates=True, infer_datetime_format=True)\n",
    "# print(BTCUSDT)\n",
    "print(BTCUSDT)\n",
    "bt = Backtest(BTCUSDT, SmaCross, cash=1000, commission=.004)\n",
    "\n",
    "results = bt.run()\n",
    "# print(results)\n",
    "bt.plot()"
   ]
  },
  {
   "cell_type": "code",
   "execution_count": null,
   "metadata": {},
   "outputs": [],
   "source": []
  }
 ],
 "metadata": {
  "kernelspec": {
   "display_name": "Python 3.7.9 64-bit",
   "language": "python",
   "name": "python3"
  },
  "language_info": {
   "codemirror_mode": {
    "name": "ipython",
    "version": 3
   },
   "file_extension": ".py",
   "mimetype": "text/x-python",
   "name": "python",
   "nbconvert_exporter": "python",
   "pygments_lexer": "ipython3",
   "version": "3.7.9"
  },
  "orig_nbformat": 4,
  "vscode": {
   "interpreter": {
    "hash": "3145f67b86bd787a34db7c875b74db61dd25265953d723ecbca8dd440d29da04"
   }
  }
 },
 "nbformat": 4,
 "nbformat_minor": 2
}
